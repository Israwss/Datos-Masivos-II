{
  "nbformat": 4,
  "nbformat_minor": 0,
  "metadata": {
    "colab": {
      "provenance": [],
      "include_colab_link": true
    },
    "kernelspec": {
      "name": "python3",
      "display_name": "Python 3"
    },
    "language_info": {
      "name": "python"
    }
  },
  "cells": [
    {
      "cell_type": "markdown",
      "metadata": {
        "id": "view-in-github",
        "colab_type": "text"
      },
      "source": [
        "<a href=\"https://colab.research.google.com/github/Israwss/Datos-Masivos-II/blob/main/DMII_U1_1_eigenvalues.ipynb\" target=\"_parent\"><img src=\"https://colab.research.google.com/assets/colab-badge.svg\" alt=\"Open In Colab\"/></a>"
      ]
    },
    {
      "cell_type": "markdown",
      "source": [
        "# Datos Masivos II\n",
        "\n",
        "## Ciencia de datos - IIMAS\n",
        "\n",
        "\n",
        "### Unidad 1. Reducción de dimensionalidad\n",
        "\n",
        "#### 1.1. Calculo de vectores y valores propios"
      ],
      "metadata": {
        "id": "GMBYkLsuC4fb"
      }
    },
    {
      "cell_type": "markdown",
      "source": [
        "Una matriz $A$ de tamaño $nxn$ se puede descomponer en un conjunto de vectores propios (eigenvectores) ($x$) y valores propios (eigenvalores) ($\\lambda$)\n",
        "\n",
        "de manera que:\n",
        "\n",
        "Los valores $\\lambda$ que satisfacen la relación:\n",
        "  \n",
        "$(A-\\lambda I)=0$\n",
        "\n",
        "se llaman **eigenvalores o valores propios**.\n",
        "\n",
        "La solución $x$ que satisface:\n",
        "\n",
        "$(A-\\lambda I)x=0$\n",
        "\n",
        "se llama **eigenvectores o vectores propios**.\n",
        "\n",
        "Para calcular la descomposición de una matriz A, emplearemos la función de Numpy llamada eig().\n",
        "\n",
        "\n",
        " Fuente: https://github.com/blancavazquez/CursoDatosMasivosII\n",
        "\n"
      ],
      "metadata": {
        "id": "gtYm6rZuNuSC"
      }
    },
    {
      "cell_type": "markdown",
      "source": [
        "La libreria SciPy también contiene un submódulo linalg y existe una superposición en la funcionalidad proporcionada por SciPy y Numpy. En Scipy se tiene algunas funciones adicionales como la descomposición LU y Schur.\n",
        "Sin embargo, la función de Numpy pueden ser más flexibles."
      ],
      "metadata": {
        "id": "85810pbACwQ7"
      }
    },
    {
      "cell_type": "code",
      "execution_count": null,
      "metadata": {
        "id": "2qwJL6YJCiaA"
      },
      "outputs": [],
      "source": [
        "import numpy as np\n",
        "from numpy import array\n",
        "from numpy.linalg import eig\n"
      ]
    },
    {
      "cell_type": "code",
      "source": [
        "#Define una matriz A\n",
        "A=array([[9, 8, 7], [6, 5, 4], [3, 2, 1]])\n",
        "print(A)"
      ],
      "metadata": {
        "colab": {
          "base_uri": "https://localhost:8080/"
        },
        "id": "Mhov9XDTiTRH",
        "outputId": "15615b26-22dd-472e-a417-e7ce345f6e8a"
      },
      "execution_count": null,
      "outputs": [
        {
          "output_type": "stream",
          "name": "stdout",
          "text": [
            "[[9 8 7]\n",
            " [6 5 4]\n",
            " [3 2 1]]\n"
          ]
        }
      ]
    },
    {
      "cell_type": "code",
      "source": [
        "#Calcula los valores y vectores propios\n",
        "eigenvalues, eigenvectors=eig(A)\n",
        "print(\"Eigenvalores: \\n\", eigenvalues)\n",
        "print(\"Eigenvectores: \\n\", eigenvectors)"
      ],
      "metadata": {
        "colab": {
          "base_uri": "https://localhost:8080/"
        },
        "id": "OPFqN0JjinBw",
        "outputId": "078570c8-e4f3-4177-df7e-25b572706e0f"
      },
      "execution_count": null,
      "outputs": [
        {
          "output_type": "stream",
          "name": "stdout",
          "text": [
            "Eigenvalores: \n",
            " [ 1.61168440e+01 -1.11684397e+00 -5.03850873e-16]\n",
            "Eigenvectores: \n",
            " [[-0.8186735  -0.61232756  0.40824829]\n",
            " [-0.52532209  0.08675134 -0.81649658]\n",
            " [-0.23197069  0.78583024  0.40824829]]\n"
          ]
        }
      ]
    },
    {
      "cell_type": "markdown",
      "source": [
        "# Reconstrucción de la matriz original\n",
        "\n",
        "Es posible reconstruir la matriz original a partir de los vectores propios y valores propios.\n",
        "\n",
        "Vamos a utilizar la siguiente ecuación:\n",
        "\n",
        "$A=UDU^{-1}$\n",
        "\n",
        "Donde:\n",
        "\n",
        "$A$ es una matriz original que se desea reconstruir\n",
        "\n",
        "$U$ es una matriz que contiene los vectores propios de $A$\n",
        "\n",
        "$D$ es una matriz diagonal que contiene los valores propios de $A$\n",
        "\n",
        "$U^{-1}$ Es la matriz inversa de $U$"
      ],
      "metadata": {
        "id": "UN4RTItfQiqA"
      }
    },
    {
      "cell_type": "code",
      "source": [
        "from numpy import diag\n",
        "from numpy import dot\n",
        "from numpy.linalg import inv\n",
        "from numpy import array\n",
        "from numpy.linalg import eig"
      ],
      "metadata": {
        "id": "sBF4dDDFQhAT"
      },
      "execution_count": null,
      "outputs": []
    },
    {
      "cell_type": "code",
      "source": [
        "#Se define la matriz\n",
        "A = array([[1,2,3],[4,5,6],[7,8,9]])\n",
        "print(\"Matriz \\n\", A)\n",
        "#Calcular los valores y vectores propios\n",
        "valores, vectores = eig(A)\n",
        "print(\"Eigenvalores: \\n\", valores)\n",
        "print(\"Eigenvalores: \\n\", vectores)"
      ],
      "metadata": {
        "colab": {
          "base_uri": "https://localhost:8080/"
        },
        "id": "XWHsfV8KQhah",
        "outputId": "271b4255-9f3e-4a0f-a51a-0ebe088ee16a"
      },
      "execution_count": null,
      "outputs": [
        {
          "output_type": "stream",
          "name": "stdout",
          "text": [
            "Matriz \n",
            " [[1 2 3]\n",
            " [4 5 6]\n",
            " [7 8 9]]\n",
            "Eigenvalores: \n",
            " [ 1.61168440e+01 -1.11684397e+00 -1.30367773e-15]\n",
            "Eigenvalores: \n",
            " [[-0.23197069 -0.78583024  0.40824829]\n",
            " [-0.52532209 -0.08675134 -0.81649658]\n",
            " [-0.8186735   0.61232756  0.40824829]]\n"
          ]
        }
      ]
    },
    {
      "cell_type": "code",
      "source": [
        "#Crear una matriz a partir de los vectores propios\n",
        "m_vectores_propios = vectores\n",
        "print(m_vectores_propios)"
      ],
      "metadata": {
        "colab": {
          "base_uri": "https://localhost:8080/"
        },
        "id": "xvgyKsUSQhmO",
        "outputId": "665950aa-985f-44c6-e62d-f9252b328b99"
      },
      "execution_count": null,
      "outputs": [
        {
          "output_type": "stream",
          "name": "stdout",
          "text": [
            "[[-0.23197069 -0.78583024  0.40824829]\n",
            " [-0.52532209 -0.08675134 -0.81649658]\n",
            " [-0.8186735   0.61232756  0.40824829]]\n"
          ]
        }
      ]
    },
    {
      "cell_type": "code",
      "source": [
        "#Crear una matriz inversa de los vectores propios\n",
        "m_inversa = inv(m_vectores_propios)\n",
        "print(m_inversa)"
      ],
      "metadata": {
        "colab": {
          "base_uri": "https://localhost:8080/"
        },
        "id": "8rWpYjEMRpR4",
        "outputId": "977a014b-71b3-40cd-ff45-162202f84d96"
      },
      "execution_count": null,
      "outputs": [
        {
          "output_type": "stream",
          "name": "stdout",
          "text": [
            "[[-0.48295226 -0.59340999 -0.70386772]\n",
            " [-0.91788599 -0.24901003  0.41986593]\n",
            " [ 0.40824829 -0.81649658  0.40824829]]\n"
          ]
        }
      ]
    },
    {
      "cell_type": "code",
      "source": [
        "#Crear una matriz diagonal para los valores propios\n",
        "m_diagonal = diag(valores)\n",
        "print(m_diagonal)"
      ],
      "metadata": {
        "colab": {
          "base_uri": "https://localhost:8080/"
        },
        "id": "x16QiaPRRpbC",
        "outputId": "0dab3c3c-5853-450e-e26e-1d0a60c06ddc"
      },
      "execution_count": null,
      "outputs": [
        {
          "output_type": "stream",
          "name": "stdout",
          "text": [
            "[[ 1.61168440e+01  0.00000000e+00  0.00000000e+00]\n",
            " [ 0.00000000e+00 -1.11684397e+00  0.00000000e+00]\n",
            " [ 0.00000000e+00  0.00000000e+00 -1.30367773e-15]]\n"
          ]
        }
      ]
    },
    {
      "cell_type": "code",
      "source": [
        "#Reconstruir la matriz original, usando la función producto punto .dot() de numpy\n",
        "m_original = m_vectores_propios.dot(m_diagonal).dot(m_inversa)\n",
        "print(m_original)"
      ],
      "metadata": {
        "colab": {
          "base_uri": "https://localhost:8080/"
        },
        "id": "o1HtGMtuRpeQ",
        "outputId": "483d88b7-9241-4925-a089-dd1ea6ec74a7"
      },
      "execution_count": null,
      "outputs": [
        {
          "output_type": "stream",
          "name": "stdout",
          "text": [
            "[[1. 2. 3.]\n",
            " [4. 5. 6.]\n",
            " [7. 8. 9.]]\n"
          ]
        }
      ]
    },
    {
      "cell_type": "markdown",
      "source": [
        "# **Método de potencias**"
      ],
      "metadata": {
        "id": "MmbWxfKVzwED"
      }
    },
    {
      "cell_type": "markdown",
      "source": [
        "\n",
        "El método de potencias es un algoritmo iterativo utilizado para calcular el valor propio dominante (el valor propio de mayor magnitud) y su correspondiente vector propio de una matriz cuadrada $A$. Este método es especialmente útil cuando solo se necesita el mayor valor propio y su vector asociado, en lugar de todos los valores y vectores propios de la matriz.\n",
        "\n",
        "El primer código está basado de [Power iteration](http://mlwiki.org/index.php/Power_Iteration) y el segundo de [UCG](https://www.ucg.ac.me/skladiste/blog_10701/objava_23569/fajlovi/power.pdf)"
      ],
      "metadata": {
        "id": "wPxJeXzfzS7o"
      }
    },
    {
      "cell_type": "code",
      "source": [
        "def eigenvalue(A, v):\n",
        "    # Esta función calcula el valor propio asociado al vector propio v.\n",
        "    # Multiplica la matriz A por el vector v\n",
        "    Av = A.dot(v)\n",
        "    # Calcula el producto escalar entre v y Av, que aproxima el valor propio\n",
        "    return v.dot(Av)\n",
        "\n",
        "def power_iteration(A):\n",
        "    # Obtiene el tamaño de la matriz (número de filas o columnas, asumiendo que es cuadrada)\n",
        "    n = A.shape[0]\n",
        "\n",
        "    # Inicializa el vector v con valores iguales y normalizados (norma L2)\n",
        "    v = np.ones(n) / np.sqrt(n)\n",
        "    print(\"v:\", v)\n",
        "\n",
        "    # Calcula el valor propio inicial utilizando el vector inicial v\n",
        "    ev = eigenvalue(A, v)\n",
        "\n",
        "    while True:\n",
        "        # Multiplica la matriz A por el vector v\n",
        "        Av = A.dot(v)\n",
        "\n",
        "        # Normaliza el vector resultante Av para obtener un nuevo vector v_new\n",
        "        v_new = Av / np.linalg.norm(Av)\n",
        "\n",
        "        # Calcula el nuevo valor propio asociado a v_new\n",
        "        ev_new = eigenvalue(A, v_new)\n",
        "\n",
        "        # Verifica la convergencia: si la diferencia entre el valor propio anterior y el nuevo\n",
        "        # es menor a un umbral (0.01 en este caso), se detiene la iteración\n",
        "        if np.abs(ev - ev_new) < 0.01:  # np.abs() calcula el valor absoluto\n",
        "            print(\"Umbral:\", np.abs(ev - ev_new))\n",
        "            break\n",
        "\n",
        "        # Actualiza el vector v y el valor propio ev para la próxima iteración\n",
        "        v = v_new\n",
        "        ev = ev_new\n",
        "\n",
        "    # Retorna el valor propio final calculado y el vector propio asociado\n",
        "    return ev_new, v_new"
      ],
      "metadata": {
        "id": "cP_mvBTZy-So"
      },
      "execution_count": null,
      "outputs": []
    },
    {
      "cell_type": "code",
      "source": [
        "#Se define la matriz\n",
        "A = np.array([[3,2],[2,6]])\n",
        "power_iteration(A)"
      ],
      "metadata": {
        "colab": {
          "base_uri": "https://localhost:8080/"
        },
        "id": "Bf8JcsodBJ_s",
        "outputId": "b32058c2-8836-4a49-abe6-1608176f708d"
      },
      "execution_count": null,
      "outputs": [
        {
          "output_type": "stream",
          "name": "stdout",
          "text": [
            "v: [0.70710678 0.70710678]\n",
            "Umbral: 0.0033972229956287237\n"
          ]
        },
        {
          "output_type": "execute_result",
          "data": {
            "text/plain": [
              "(np.float64(6.99969780103031), array([0.45415363, 0.89092339]))"
            ]
          },
          "metadata": {},
          "execution_count": 11
        }
      ]
    },
    {
      "cell_type": "code",
      "source": [
        "import numpy as np\n",
        "\n",
        "def power_iteration(A, num_simulations):\n",
        "    # Inicializa el vector v con valores iguales y normalizados (norma L2)\n",
        "    v = np.ones(A.shape[0]) / np.sqrt(A.shape[0])\n",
        "\n",
        "    # Realiza num_simulations iteraciones del método de potencias\n",
        "    for _ in range(num_simulations):\n",
        "        # Calcula el producto matriz-vector A * v\n",
        "        v_new = np.dot(A, v)\n",
        "\n",
        "        # Normaliza el vector resultante v_new para obtener un nuevo vector v\n",
        "        v = v_new / np.linalg.norm(v_new)\n",
        "\n",
        "    # Retorna el vector v tras el número de iteraciones especificado\n",
        "    return v\n",
        "\n",
        "# Ejecuta el método de potencias con una matriz 2x2 y 5 iteraciones\n",
        "power_iteration(np.array([[3, 2], [2, 6]]), 5)"
      ],
      "metadata": {
        "colab": {
          "base_uri": "https://localhost:8080/"
        },
        "id": "yjGVYM87BKIl",
        "outputId": "a1953b1f-94a4-4dd4-a184-000b9f3faf01"
      },
      "execution_count": null,
      "outputs": [
        {
          "output_type": "execute_result",
          "data": {
            "text/plain": [
              "array([0.44778116, 0.89414318])"
            ]
          },
          "metadata": {},
          "execution_count": 12
        }
      ]
    }
  ]
}